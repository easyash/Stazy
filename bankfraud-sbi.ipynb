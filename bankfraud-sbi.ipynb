{
 "cells": [
  {
   "cell_type": "markdown",
   "metadata": {
    "_cell_guid": "aae6646e-bcaa-4afb-85bc-2f67e314d5b0",
    "_uuid": "d821b548edc31ad27967b8419af17bfa4f0bae48"
   },
   "source": [
    "<a id='import'></a>\n",
    "#### 1. Import"
   ]
  },
  {
   "cell_type": "code",
   "execution_count": 67,
   "metadata": {
    "_cell_guid": "03afcaca-4105-4c95-9a38-9a922f592814",
    "_uuid": "f936a10915bc042e678e1148923e493f92b518c3"
   },
   "outputs": [],
   "source": [
    "import pandas as pd\n",
    "import numpy as np\n",
    "%matplotlib inline\n",
    "import matplotlib.pyplot as plt\n",
    "import matplotlib.lines as mlines\n",
    "from mpl_toolkits.mplot3d import Axes3D\n",
    "import seaborn as sns\n",
    "from sklearn.model_selection import train_test_split, learning_curve\n",
    "from sklearn.metrics import average_precision_score\n",
    "from sklearn.metrics import confusion_matrix,auc,roc_auc_score\n",
    "from sklearn.metrics import recall_score, precision_score, accuracy_score, f1_score\n",
    "\n",
    "from xgboost.sklearn import XGBClassifier\n",
    "from xgboost import plot_importance, to_graphviz\n",
    "from sklearn.naive_bayes import GaussianNB\n",
    "from sklearn.linear_model import LogisticRegression\n",
    "from sklearn.preprocessing import LabelEncoder,LabelBinarizer"
   ]
  },
  {
   "cell_type": "code",
   "execution_count": 68,
   "metadata": {},
   "outputs": [],
   "source": [
    "from sklearn.preprocessing import StandardScaler"
   ]
  },
  {
   "cell_type": "code",
   "execution_count": 69,
   "metadata": {},
   "outputs": [],
   "source": [
    "import os\n",
    "os.environ[\"PATH\"] += os.pathsep + 'C:/Program Files (x86)/Graphviz2.38/bin/'"
   ]
  },
  {
   "cell_type": "code",
   "execution_count": 70,
   "metadata": {
    "_cell_guid": "9bc1119f-d883-4cc6-b569-a707359abe01",
    "_uuid": "b7a3f0c8714f9e3d78a898a014f5ad81ecee1063"
   },
   "outputs": [],
   "source": [
    "import warnings\n",
    "warnings.filterwarnings(\"ignore\", category=DeprecationWarning)"
   ]
  },
  {
   "cell_type": "code",
   "execution_count": 71,
   "metadata": {
    "_cell_guid": "9dc91648-ab99-44c3-a1f1-bea967df390f",
    "_uuid": "6e1110dd564e4a38eb9d8e83c4575dcc3d26abe8"
   },
   "outputs": [],
   "source": [
    "df = pd.read_csv('sampledata.csv',nrows=100000)"
   ]
  },
  {
   "cell_type": "code",
   "execution_count": 72,
   "metadata": {},
   "outputs": [],
   "source": [
    "df.shape\n",
    "df.drop(['CSP location','CustomerName','RefNumber','TxnStatus'], axis=1, inplace=True)\n",
    "df.fillna(0, inplace=True)"
   ]
  },
  {
   "cell_type": "code",
   "execution_count": 73,
   "metadata": {},
   "outputs": [
    {
     "name": "stdout",
     "output_type": "stream",
     "text": [
      "Before\n",
      "    CSPCode  TerminalID              TxnDateTime               TxnType  \\\n",
      "0  1A69C733  10810701.0  2018-11-28 17:57:56.000               Deposit   \n",
      "1  1A69C733  10810701.0  2018-11-28 17:59:23.000  ATM Offus Withdrawal   \n",
      "2  1A69C733  10810701.0  2018-11-28 18:02:20.000        Money Transfer   \n",
      "3  1A69C733  10810701.0  2018-11-28 18:10:37.000   ATM Onus Withdrawal   \n",
      "4  1A69C733  10810701.0  2018-11-29 16:35:23.000  AEPS ONUS Withdrawal   \n",
      "\n",
      "   FromAccount    ToAccount   Amount  CustomerCharge    JournalNo  AuditStatus  \n",
      "0  XXXXXX59469  XXXXXX66910    900.0             0.0  110474040.0            0  \n",
      "1  XXXXXX21052  XXXXXX59469   2000.0             0.0  110622933.0            1  \n",
      "2  XXXXXX59469  XXXXXX64314    300.0             0.0  110965731.0            0  \n",
      "3  XXXXXX19196  XXXXXX59469  10000.0             0.0  111946600.0            0  \n",
      "4  XXXXXX53275  XXXXXX59469   1200.0             0.0   99376167.0            0  \n",
      "\n",
      "\n",
      " After\n",
      "   CSPCode  TerminalID  TxnDateTime  TxnType  FromAccount  ToAccount   Amount  \\\n",
      "0     1164  10810701.0        80037       11        22535      15278    900.0   \n",
      "1     1164  10810701.0        80048        7         7872      13601   2000.0   \n",
      "2     1164  10810701.0        80070       17        22535      14683    300.0   \n",
      "3     1164  10810701.0        80115        8         7167      13601  10000.0   \n",
      "4     1164  10810701.0        81206        4        20105      13601   1200.0   \n",
      "\n",
      "   CustomerCharge    JournalNo  AuditStatus  \n",
      "0             0.0  110474040.0            0  \n",
      "1             0.0  110622933.0            1  \n",
      "2             0.0  110965731.0            0  \n",
      "3             0.0  111946600.0            0  \n",
      "4             0.0   99376167.0            0  \n"
     ]
    }
   ],
   "source": [
    "df['AuditStatus'] = df['AuditStatus'].replace(to_replace={'.*Fraud.*': '1'}, regex=True)\n",
    "df.AuditStatus = pd.to_numeric(df.AuditStatus, errors='coerce')\n",
    "\n",
    "#df['TxnStatus'] = df['TxnStatus'].replace(to_replace={'.*Success.*': '1'}, regex=True)\n",
    "#df['TxnStatus'] = df['TxnStatus'].replace(to_replace={'.*Failure.*': '1'}, regex=True)\n",
    "\n",
    "#df.TxnStatus = pd.to_numeric(df.TxnStatus, errors='coerce')\n",
    "\n",
    "df.columns = df.columns.str.replace(' ', '')\n",
    "print('Before')\n",
    "print(df.head())\n",
    "\n",
    "le = LabelEncoder()\n",
    "df['CSPCode'] = le.fit_transform(df.CSPCode)\n",
    "df['FromAccount'] = le.fit_transform(df.FromAccount)\n",
    "df['ToAccount'] = le.fit_transform(df.ToAccount)\n",
    "df['TxnType'] = le.fit_transform(df.TxnType)\n",
    "df['TxnDateTime'] = le.fit_transform(df.TxnDateTime)\n",
    "\n",
    "print('\\n\\n After')\n",
    "print(df.head())"
   ]
  },
  {
   "cell_type": "markdown",
   "metadata": {
    "_cell_guid": "1f073780-2735-4481-a80c-87ed3cfc9d6a",
    "_uuid": "4409f927b742283f1024982d00585deae5e57976"
   },
   "source": [
    "<a id='EDA'></a>\n",
    "#### 2. Exploratory Data Analysis\n"
   ]
  },
  {
   "cell_type": "markdown",
   "metadata": {
    "_cell_guid": "cff74f1a-5121-44c2-a6fe-6d69fd904a45",
    "_uuid": "856038be1f75ffd6e0b132c80eac2a35bb36f9d5"
   },
   "source": [
    "<a id='fraud-trans'></a>\n",
    "##### 2.1. Which types of transactions are fraudulent? \n"
   ]
  },
  {
   "cell_type": "code",
   "execution_count": 74,
   "metadata": {
    "_cell_guid": "a10a3577-4716-49dc-8dda-d567fb395a74",
    "_uuid": "abc0207b9075a0defd828fe8732d63cce8da33c6"
   },
   "outputs": [
    {
     "name": "stdout",
     "output_type": "stream",
     "text": [
      "\n",
      " The types of transactions tagged as Fraud Transaction are [7, 1, 6, 11, 8, 4, 21, 17, 14, 2, 3, 16, 5, 13, 12, 0]\n",
      "\n",
      " The number of fraud transactions = 29260\n"
     ]
    }
   ],
   "source": [
    "print('\\n The types of transactions tagged as Fraud Transaction are {}'.format(\\\n",
    "list(df.loc[df.AuditStatus == 1].TxnType.drop_duplicates().values))) # only 'CASH_OUT' \n",
    "                                                             # & 'TRANSFER'\n",
    "\n",
    "FTs = list(df.loc[df.AuditStatus == 1].TxnType.drop_duplicates().values)\n",
    "dfFraudTxns = df.loc[(df.AuditStatus == 1)]\n",
    "\n",
    "print ('\\n The number of fraud transactions = {}'.\\\n",
    "      format(len(dfFraudTxns))) # 4097"
   ]
  },
  {
   "cell_type": "markdown",
   "metadata": {
    "_cell_guid": "a2207bbf-53cf-463c-bb24-f3c871091f75",
    "_uuid": "04b0c4acefb484866fb54a19d04c67dc62699c09"
   },
   "source": [
    "<a id='isFlaggedFraud'></a>\n",
    "##### 2.2. What is min and max amount in Fraud Transactions? \n"
   ]
  },
  {
   "cell_type": "code",
   "execution_count": 75,
   "metadata": {
    "_cell_guid": "81e27fe8-a42b-40a1-a629-7201f5d4bbd0",
    "_uuid": "42a56e2d6de87ea04c9b03ab7e32b4c806ba00c6"
   },
   "outputs": [
    {
     "name": "stdout",
     "output_type": "stream",
     "text": [
      "\n",
      "Min amount transacted in Fraud Transactions = 1.0\n",
      "\n",
      "Max amount transacted in Fraud Transactions = 20000.0\n"
     ]
    }
   ],
   "source": [
    "\n",
    "print('\\nMin amount transacted in Fraud Transactions = {}'\\\n",
    "                                  .format(dfFraudTxns.Amount.min()))\n",
    "\n",
    "print('\\nMax amount transacted in Fraud Transactions = {}'\\\n",
    "                                  .format(dfFraudTxns.Amount.max()))"
   ]
  },
  {
   "cell_type": "markdown",
   "metadata": {
    "_cell_guid": "cb401745-33d3-42df-a226-12a84fb04bd9",
    "_uuid": "86a79448bf138b3b4c249c5be4b812dbce492e9a"
   },
   "source": [
    "<a id='clean'></a>\n",
    "#### 3. Data cleaning"
   ]
  },
  {
   "cell_type": "code",
   "execution_count": 76,
   "metadata": {
    "_cell_guid": "bc50e596-b0f3-4e63-877d-d506e2528cd1",
    "_uuid": "42807f63bb86782daedce8dfa7ba1385458c84c9"
   },
   "outputs": [],
   "source": [
    "#X = df.loc[(df.TxnType in FTs)]\n",
    "X = df.loc[df['TxnType'].isin(FTs)]\n",
    "\n",
    "\n",
    "randomState = 5\n",
    "np.random.seed(randomState)\n",
    "\n",
    "#X = X.loc[np.random.choice(X.index, 100000, replace = False)]\n",
    "\n",
    "Y = X['AuditStatus']\n",
    "del X['AuditStatus']\n",
    "\n",
    "# Binary-encoding of labelled data in 'type'\n",
    "#X.loc[X.type == 'TRANSFER', 'type'] = 0\n",
    "#X.loc[X.type == 'CASH_OUT', 'type'] = 1\n",
    "#X.type = X.type.astype(int) # convert dtype('O') to dtype(int)"
   ]
  },
  {
   "cell_type": "code",
   "execution_count": 77,
   "metadata": {},
   "outputs": [],
   "source": [
    "df['scaled_Amount'] = StandardScaler().fit_transform(df['Amount'].values.reshape(-1,1))\n",
    "df['scaled_TerminalID'] = StandardScaler().fit_transform(df['TerminalID'].values.reshape(-1,1))\n",
    "df['scaled_JournalNo'] = StandardScaler().fit_transform(df['JournalNo'].values.reshape(-1,1))\n"
   ]
  },
  {
   "cell_type": "markdown",
   "metadata": {
    "_cell_guid": "9e3b61cc-9119-4483-8def-39503b6a0ce8",
    "_uuid": "a4da30990990d41b9c2232644fb09ca310edb004"
   },
   "source": [
    "<a id='visualization'></a>\n",
    "#### 4. Data visualization"
   ]
  },
  {
   "cell_type": "code",
   "execution_count": 78,
   "metadata": {
    "_cell_guid": "1676906a-a4f0-43bf-8db9-3131e4928343",
    "_uuid": "84a8bf0739d49fadf2fbc9dfd2ccce8fd0abc0cc"
   },
   "outputs": [
    {
     "name": "stdout",
     "output_type": "stream",
     "text": [
      "\n",
      "Total transactions in categories with fraud = 96867\n",
      "\n",
      "Total transactions = 100000\n"
     ]
    }
   ],
   "source": [
    "limit1 = len(X)\n",
    "limit2 = len(df)\n",
    "\n",
    "print('\\nTotal transactions in categories with fraud = {}'\\\n",
    "                                  .format(limit1))\n",
    "print('\\nTotal transactions = {}'\\\n",
    "                                  .format(limit2))"
   ]
  },
  {
   "cell_type": "markdown",
   "metadata": {},
   "source": [
    "<a id='visualization'></a>\n",
    "#### 4. Data visualization"
   ]
  },
  {
   "cell_type": "code",
   "execution_count": 79,
   "metadata": {},
   "outputs": [
    {
     "name": "stdout",
     "output_type": "stream",
     "text": [
      "Txns as pie chart:\n"
     ]
    },
    {
     "data": {
      "text/plain": [
       "Text(0, 0.5, '')"
      ]
     },
     "execution_count": 79,
     "metadata": {},
     "output_type": "execute_result"
    },
    {
     "data": {
      "image/png": "[encoded data removed]",
      "text/plain": [
       "<Figure size 432x288 with 1 Axes>"
      ]
     },
     "metadata": {},
     "output_type": "display_data"
    }
   ],
   "source": [
    "print(\"Txns as pie chart:\")\n",
    "fig, ax = plt.subplots(1, 1)\n",
    "ax.pie(df.AuditStatus.value_counts(),autopct='%1.1f%%', labels=['Genuine','Fraud'], colors=['yellowgreen','r'])\n",
    "plt.axis('equal')\n",
    "plt.ylabel('')"
   ]
  },
  {
   "cell_type": "code",
   "execution_count": 82,
   "metadata": {},
   "outputs": [
    {
     "data": {
      "text/plain": [
       "<matplotlib.axes._subplots.AxesSubplot at 0x1beb1b875f8>"
      ]
     },
     "execution_count": 82,
     "metadata": {},
     "output_type": "execute_result"
    },
    {
     "data": {
      "image/png": "[encoded data removed]",
      "text/plain": [
       "<Figure size 432x288 with 2 Axes>"
      ]
     },
     "metadata": {
      "needs_background": "light"
     },
     "output_type": "display_data"
    }
   ],
   "source": [
    "corr = df.loc[:,df.dtypes == 'float64'].corr()\n",
    "sns.heatmap(corr, xticklabels=corr.columns, yticklabels=corr.columns, cmap=sns.diverging_palette(220, 10, as_cmap=True))"
   ]
  },
  {
   "cell_type": "code",
   "execution_count": 83,
   "metadata": {},
   "outputs": [
    {
     "data": {
      "text/plain": [
       "Text(0, 0.5, '# transactions')"
      ]
     },
     "execution_count": 83,
     "metadata": {},
     "output_type": "execute_result"
    },
    {
     "data": {
      "image/png": "[encoded data removed]",
      "text/plain": [
       "<Figure size 432x216 with 2 Axes>"
      ]
     },
     "metadata": {
      "needs_background": "light"
     },
     "output_type": "display_data"
    }
   ],
   "source": [
    "fig, (ax3,ax4) = plt.subplots(2,1, figsize = (6,3), sharex = True)\n",
    "ax3.hist(df.Amount[df.AuditStatus==0],bins=50,color='g',alpha=0.5)\n",
    "ax3.set_yscale('log') # to see the tails\n",
    "ax3.set_title('Genuine') # to see the tails\n",
    "ax3.set_ylabel('# transactions')\n",
    "ax4.hist(df.Amount[df.AuditStatus==1],bins=50,color='r',alpha=0.5)\n",
    "ax4.set_yscale('log') # to see the tails\n",
    "ax4.set_title('Fraud') # to see the tails\n",
    "ax4.set_xlabel('Amount ($)')\n",
    "ax4.set_ylabel('# transactions')"
   ]
  },
  {
   "cell_type": "markdown",
   "metadata": {},
   "source": [
    "<a id='naivebayes'></a>\n",
    "####  Using Gaussian Naive Bayes"
   ]
  },
  {
   "cell_type": "code",
   "execution_count": 84,
   "metadata": {},
   "outputs": [],
   "source": [
    "def split_data(df, drop_list):\n",
    "    df = df.drop(drop_list,axis=1)\n",
    "    print(df.columns)\n",
    "    #test train split time\n",
    "    from sklearn.model_selection import train_test_split\n",
    "    y = df['AuditStatus'].values #target\n",
    "    X = df.drop(['AuditStatus'],axis=1).values #features\n",
    "    X_train, X_test, y_train, y_test = train_test_split(X, y, test_size=0.2,\n",
    "                                                    random_state=42, stratify=y)\n",
    "\n",
    "    print(\"train-set size: \", len(y_train),\n",
    "      \"\\ntest-set size: \", len(y_test))\n",
    "    print(\"fraud cases in test-set: \", sum(y_test))\n",
    "    return X_train, X_test, y_train, y_test"
   ]
  },
  {
   "cell_type": "code",
   "execution_count": 85,
   "metadata": {},
   "outputs": [],
   "source": [
    "def get_predictions(clf, X_train, y_train, X_test):\n",
    "    # create classifier\n",
    "    clf = clf\n",
    "    # fit it to training data\n",
    "    clf.fit(X_train,y_train)\n",
    "    # predict using test data\n",
    "    y_pred = clf.predict(X_test)\n",
    "    # Compute predicted probabilities: y_pred_prob\n",
    "    y_pred_prob = clf.predict_proba(X_test)\n",
    "    #for fun: train-set predictions\n",
    "    train_pred = clf.predict(X_train)\n",
    "    print('train-set confusion matrix:\\n', confusion_matrix(y_train,train_pred)) \n",
    "    return y_pred, y_pred_prob"
   ]
  },
  {
   "cell_type": "code",
   "execution_count": 86,
   "metadata": {},
   "outputs": [],
   "source": [
    "def print_scores(y_test,y_pred,y_pred_prob):\n",
    "    print('test-set confusion matrix:\\n', confusion_matrix(y_test,y_pred)) \n",
    "    print(\"recall score: \", recall_score(y_test,y_pred))\n",
    "    print(\"precision score: \", precision_score(y_test,y_pred))\n",
    "    print(\"f1 score: \", f1_score(y_test,y_pred))\n",
    "    print(\"accuracy score: \", accuracy_score(y_test,y_pred))\n",
    "    print(\"ROC AUC: {}\".format(roc_auc_score(y_test, y_pred_prob[:,1])))"
   ]
  },
  {
   "cell_type": "code",
   "execution_count": 87,
   "metadata": {},
   "outputs": [
    {
     "name": "stdout",
     "output_type": "stream",
     "text": [
      "Index(['CSPCode', 'TerminalID', 'TxnDateTime', 'TxnType', 'FromAccount',\n",
      "       'ToAccount', 'Amount', 'CustomerCharge', 'JournalNo', 'AuditStatus',\n",
      "       'scaled_Amount', 'scaled_TerminalID', 'scaled_JournalNo'],\n",
      "      dtype='object')\n",
      "train-set size:  80000 \n",
      "test-set size:  20000\n",
      "fraud cases in test-set:  5852\n",
      "train-set confusion matrix:\n",
      " [[55766   826]\n",
      " [22529   879]]\n",
      "test-set confusion matrix:\n",
      " [[13949   199]\n",
      " [ 5624   228]]\n",
      "recall score:  0.03896103896103896\n",
      "precision score:  0.5339578454332553\n",
      "f1 score:  0.07262302914476827\n",
      "accuracy score:  0.70885\n",
      "ROC AUC: 0.6328228766456971\n"
     ]
    }
   ],
   "source": [
    "drop_list = []\n",
    "X_train, X_test, y_train, y_test = split_data(df, drop_list)\n",
    "y_pred, y_pred_prob = get_predictions(GaussianNB(), X_train, y_train, X_test)\n",
    "print_scores(y_test,y_pred,y_pred_prob)"
   ]
  },
  {
   "cell_type": "code",
   "execution_count": 88,
   "metadata": {},
   "outputs": [
    {
     "name": "stdout",
     "output_type": "stream",
     "text": [
      "Index(['CustomerCharge',    'AuditStatus',  'scaled_Amount',                0,\n",
      "                      1,                2,                3,                4,\n",
      "                      5,                6,\n",
      "       ...\n",
      "                   2422,             2423,             2424,             2425,\n",
      "                   2426,             2427,             2428,             2429,\n",
      "                   2430,             2431],\n",
      "      dtype='object', length=2435)\n",
      "train-set size:  80000 \n",
      "test-set size:  20000\n",
      "fraud cases in test-set:  5852\n",
      "train-set confusion matrix:\n",
      " [[20146 36446]\n",
      " [  493 22915]]\n",
      "test-set confusion matrix:\n",
      " [[5057 9091]\n",
      " [ 227 5625]]\n",
      "recall score:  0.9612098427887902\n",
      "precision score:  0.38223702092960044\n",
      "f1 score:  0.5469661610268377\n",
      "accuracy score:  0.5341\n",
      "ROC AUC: 0.6603073303680979\n"
     ]
    }
   ],
   "source": [
    "# Case-NB-2 : drop some of principle components that have similar distributions in above plots \n",
    "drop_list = ['TerminalID','JournalNo','TerminalID','Amount','JournalNo','scaled_TerminalID','scaled_JournalNo','FromAccount','ToAccount','TxnDateTime']\n",
    "\n",
    "#  one hot encoding of columns \n",
    "csp_code = pd.get_dummies(df['CSPCode'])\n",
    "txn_type = pd.get_dummies(df['TxnType'])\n",
    "\n",
    "# Drop columns as it is now encoded\n",
    "df = df.drop('CSPCode',axis = 1)\n",
    "df = df.drop('TxnType',axis = 1)\n",
    "\n",
    "# Join the encoded df\n",
    "df = df.join(csp_code)\n",
    "#df = df.join(txn_type)\n",
    "\n",
    "X_train, X_test, y_train, y_test = split_data(df, drop_list)\n",
    "y_pred, y_pred_prob = get_predictions(GaussianNB(), X_train, y_train, X_test)\n",
    "print_scores(y_test,y_pred,y_pred_prob)"
   ]
  },
  {
   "cell_type": "code",
   "execution_count": 89,
   "metadata": {},
   "outputs": [
    {
     "name": "stderr",
     "output_type": "stream",
     "text": [
      "C:\\ProgramData\\Anaconda3\\lib\\site-packages\\sklearn\\linear_model\\logistic.py:432: FutureWarning: Default solver will be changed to 'lbfgs' in 0.22. Specify a solver to silence this warning.\n",
      "  FutureWarning)\n"
     ]
    },
    {
     "name": "stdout",
     "output_type": "stream",
     "text": [
      "train-set confusion matrix:\n",
      " [[56592     0]\n",
      " [23408     0]]\n",
      "test-set confusion matrix:\n",
      " [[14148     0]\n",
      " [ 5852     0]]\n",
      "recall score:  0.0\n",
      "precision score:  0.0\n",
      "f1 score:  0.0\n",
      "accuracy score:  0.7074\n",
      "ROC AUC: 0.5560515389889638\n"
     ]
    },
    {
     "name": "stderr",
     "output_type": "stream",
     "text": [
      "C:\\ProgramData\\Anaconda3\\lib\\site-packages\\sklearn\\metrics\\classification.py:1143: UndefinedMetricWarning: Precision is ill-defined and being set to 0.0 due to no predicted samples.\n",
      "  'precision', 'predicted', average, warn_for)\n",
      "C:\\ProgramData\\Anaconda3\\lib\\site-packages\\sklearn\\metrics\\classification.py:1143: UndefinedMetricWarning: F-score is ill-defined and being set to 0.0 due to no predicted samples.\n",
      "  'precision', 'predicted', average, warn_for)\n"
     ]
    }
   ],
   "source": [
    "# let us check recall score for logistic regression\n",
    "# Case-LR-1\n",
    "y_pred, y_pred_prob = get_predictions(LogisticRegression(C = 0.01, penalty = 'l1')\n",
    "                                      , X_train, y_train, X_test)\n",
    "print_scores(y_test,y_pred,y_pred_prob)"
   ]
  },
  {
   "cell_type": "code",
   "execution_count": 90,
   "metadata": {},
   "outputs": [
    {
     "name": "stdout",
     "output_type": "stream",
     "text": [
      "# transactions in undersampled data:  58520\n",
      "% genuine transactions:  0.5\n",
      "% fraud transactions:  0.5\n"
     ]
    }
   ],
   "source": [
    "# get indices for fraud and genuine classes \n",
    "fraud_ind = np.array(df[df.AuditStatus == 1].index)\n",
    "gen_ind = df[df.AuditStatus == 0].index\n",
    "n_fraud = len(df[df.AuditStatus == 1])\n",
    "# random selection from genuine class\n",
    "random_gen_ind = np.random.choice(gen_ind, n_fraud, replace = False)\n",
    "random_gen_ind = np.array(random_gen_ind)\n",
    "# merge two class indices: random genuine + original fraud\n",
    "under_sample_ind = np.concatenate([fraud_ind,random_gen_ind])\n",
    "# Under sample dataset\n",
    "undersample_df = df.iloc[under_sample_ind,:]\n",
    "y_undersample  = undersample_df['AuditStatus'].values #target\n",
    "X_undersample = undersample_df.drop(['AuditStatus'],axis=1).values #features\n",
    "\n",
    "print(\"# transactions in undersampled data: \", len(undersample_df))\n",
    "print(\"% genuine transactions: \",len(undersample_df[undersample_df.AuditStatus == 0])/len(undersample_df))\n",
    "print(\"% fraud transactions: \", sum(y_undersample)/len(undersample_df))"
   ]
  },
  {
   "cell_type": "code",
   "execution_count": 91,
   "metadata": {},
   "outputs": [
    {
     "name": "stdout",
     "output_type": "stream",
     "text": [
      "Index([       'TerminalID',       'TxnDateTime',       'FromAccount',\n",
      "               'ToAccount',            'Amount',    'CustomerCharge',\n",
      "               'JournalNo',       'AuditStatus',     'scaled_Amount',\n",
      "       'scaled_TerminalID',\n",
      "       ...\n",
      "                      2422,                2423,                2424,\n",
      "                      2425,                2426,                2427,\n",
      "                      2428,                2429,                2430,\n",
      "                      2431],\n",
      "      dtype='object', length=2443)\n",
      "train-set size:  46816 \n",
      "test-set size:  11704\n",
      "fraud cases in test-set:  5852\n"
     ]
    },
    {
     "name": "stderr",
     "output_type": "stream",
     "text": [
      "C:\\ProgramData\\Anaconda3\\lib\\site-packages\\sklearn\\linear_model\\logistic.py:432: FutureWarning: Default solver will be changed to 'lbfgs' in 0.22. Specify a solver to silence this warning.\n",
      "  FutureWarning)\n",
      "C:\\ProgramData\\Anaconda3\\lib\\site-packages\\sklearn\\svm\\base.py:922: ConvergenceWarning: Liblinear failed to converge, increase the number of iterations.\n",
      "  \"the number of iterations.\", ConvergenceWarning)\n"
     ]
    },
    {
     "name": "stdout",
     "output_type": "stream",
     "text": [
      "train-set confusion matrix:\n",
      " [[13550  9858]\n",
      " [10451 12957]]\n",
      "test-set confusion matrix:\n",
      " [[3398 2454]\n",
      " [2604 3248]]\n",
      "recall score:  0.5550239234449761\n",
      "precision score:  0.5696246930901439\n",
      "f1 score:  0.5622295308983902\n",
      "accuracy score:  0.5678400546821599\n",
      "ROC AUC: 0.6043696787796871\n"
     ]
    }
   ],
   "source": [
    "# let us train logistic regression with undersamples data\n",
    "# Case-LR-2\n",
    "# split undersampled data into 80/20 train-test datasets. \n",
    "# - Train model from this 80% fraction of undersampled data, get predictions from left over i.e. 20%.\n",
    "drop_list = []\n",
    "X_und_train, X_und_test, y_und_train, y_und_test = split_data(undersample_df, drop_list)\n",
    "y_und_pred, y_und_pred_prob = get_predictions(LogisticRegression(C = 0.01, penalty = 'l1'), X_und_train, y_und_train, X_und_test)\n",
    "print_scores(y_und_test,y_und_pred,y_und_pred_prob)"
   ]
  },
  {
   "cell_type": "code",
   "execution_count": 92,
   "metadata": {},
   "outputs": [
    {
     "name": "stderr",
     "output_type": "stream",
     "text": [
      "C:\\ProgramData\\Anaconda3\\lib\\site-packages\\sklearn\\linear_model\\logistic.py:432: FutureWarning: Default solver will be changed to 'lbfgs' in 0.22. Specify a solver to silence this warning.\n",
      "  FutureWarning)\n",
      "C:\\ProgramData\\Anaconda3\\lib\\site-packages\\sklearn\\svm\\base.py:922: ConvergenceWarning: Liblinear failed to converge, increase the number of iterations.\n",
      "  \"the number of iterations.\", ConvergenceWarning)\n"
     ]
    },
    {
     "name": "stdout",
     "output_type": "stream",
     "text": [
      "scores for Full set\n",
      "test-set confusion matrix:\n",
      " [[41192 29548]\n",
      " [12948 16312]]\n",
      "recall score:  0.5574846206425154\n",
      "precision score:  0.3556912341910161\n"
     ]
    }
   ],
   "source": [
    "# Case-LR-3\n",
    "# \"train\" with undersamples, \"test\" with full data\n",
    "# call classifier\n",
    "lr = LogisticRegression(C = 0.01, penalty = 'l1')\n",
    "# fit it to complete undersampled data\n",
    "lr.fit(X_undersample, y_undersample)\n",
    "# predict on full data\n",
    "y_full = df['AuditStatus'].values #target\n",
    "X_full = df.drop(['AuditStatus'],axis=1).values #features\n",
    "y_full_pred = lr.predict(X_full)\n",
    "# Compute predicted probabilities: y_pred_prob\n",
    "y_full_pred_prob = lr.predict_proba(X_full)\n",
    "print(\"scores for Full set\")   \n",
    "print('test-set confusion matrix:\\n', confusion_matrix(y_full,y_full_pred)) \n",
    "print(\"recall score: \", recall_score(y_full,y_full_pred))\n",
    "print(\"precision score: \", precision_score(y_full,y_full_pred))"
   ]
  },
  {
   "cell_type": "markdown",
   "metadata": {},
   "source": [
    "<a id='xgboost'></a>\n",
    "####  Compare the scores from GaussianNB with logistic-regression.\n",
    "\n",
    "Get predictions for test-dataset (20% of full dataset) from both models.\n",
    "Aim is to compare recall score of Case-NB-4 with Case-LR-4."
   ]
  },
  {
   "cell_type": "code",
   "execution_count": 26,
   "metadata": {},
   "outputs": [
    {
     "name": "stdout",
     "output_type": "stream",
     "text": [
      "Index([    'TerminalID',    'TxnDateTime',    'FromAccount',      'ToAccount',\n",
      "               'Amount', 'CustomerCharge',      'JournalNo',      'TxnStatus',\n",
      "          'AuditStatus',  'scaled_Amount',\n",
      "       ...\n",
      "                   2422,             2423,             2424,             2425,\n",
      "                   2426,             2427,             2428,             2429,\n",
      "                   2430,             2431],\n",
      "      dtype='object', length=2444)\n",
      "train-set size:  80000 \n",
      "test-set size:  20000\n",
      "fraud cases in test-set:  5852\n"
     ]
    }
   ],
   "source": [
    "drop_list = []\n",
    "X_train, X_test, y_train, y_test = split_data(df, drop_list)"
   ]
  },
  {
   "cell_type": "code",
   "execution_count": null,
   "metadata": {},
   "outputs": [],
   "source": [
    "y_p20_pred = lr.predict(X_test)\n",
    "y_p20_pred_prob = lr.predict_proba(X_test)\n",
    "print(\"scores for test (20% of full) set\")   \n",
    "print('test-set confusion matrix:\\n', confusion_matrix(y_test,y_p20_pred)) \n",
    "print(\"recall score: \", recall_score(y_test,y_p20_pred))\n",
    "print(\"precision score: \", precision_score(y_test,y_p20_pred))"
   ]
  },
  {
   "cell_type": "markdown",
   "metadata": {},
   "source": [
    "<a id='xgboost'></a>\n",
    "####  Using XGBoost"
   ]
  },
  {
   "cell_type": "code",
   "execution_count": 27,
   "metadata": {},
   "outputs": [
    {
     "name": "stdout",
     "output_type": "stream",
     "text": [
      "Index([    'TerminalID',    'TxnDateTime',    'FromAccount',      'ToAccount',\n",
      "               'Amount', 'CustomerCharge',      'JournalNo',      'TxnStatus',\n",
      "          'AuditStatus',  'scaled_Amount',\n",
      "       ...\n",
      "                   2422,             2423,             2424,             2425,\n",
      "                   2426,             2427,             2428,             2429,\n",
      "                   2430,             2431],\n",
      "      dtype='object', length=2444)\n",
      "train-set size:  80000 \n",
      "test-set size:  20000\n",
      "fraud cases in test-set:  5852\n"
     ]
    }
   ],
   "source": [
    "print(df.columns)\n",
    "\n",
    "#test train split time\n",
    "from sklearn.model_selection import train_test_split\n",
    "y = df['AuditStatus'].values #target\n",
    "X = df.drop(['AuditStatus'],axis=1).values #features\n",
    "trainX, testX, trainY, testY = train_test_split(X, y, test_size=0.2,\n",
    "                                                    random_state=42, stratify=y)\n",
    "\n",
    "print(\"train-set size: \", len(trainY),\n",
    "      \"\\ntest-set size: \", len(testY))\n",
    "print(\"fraud cases in test-set: \", sum(testY))\n"
   ]
  },
  {
   "cell_type": "code",
   "execution_count": 28,
   "metadata": {},
   "outputs": [
    {
     "name": "stdout",
     "output_type": "stream",
     "text": [
      "AUPRC = 0.568447713250235\n"
     ]
    }
   ],
   "source": [
    "# Long computation in this cell (~1.8 minutes)\n",
    "weights = (Y == 0).sum() / (1.0 * (Y == 1).sum())\n",
    "clf = XGBClassifier(max_depth = 3, scale_pos_weight = weights, \\\n",
    "                n_jobs = 4)\n",
    "probabilities = clf.fit(trainX, trainY).predict_proba(testX)\n",
    "print('AUPRC = {}'.format(average_precision_score(testY, \\\n",
    "                                              probabilities[:, 1])))"
   ]
  },
  {
   "cell_type": "code",
   "execution_count": 29,
   "metadata": {},
   "outputs": [
    {
     "data": {
      "image/png": "[encoded data removed]",
      "text/plain": [
       "<Figure size 1008x648 with 1 Axes>"
      ]
     },
     "metadata": {
      "needs_background": "light"
     },
     "output_type": "display_data"
    }
   ],
   "source": [
    "fig = plt.figure(figsize = (14, 9))\n",
    "ax = fig.add_subplot(111)\n",
    "\n",
    "colours = plt.cm.Set1(np.linspace(0, 1, 9))\n",
    "\n",
    "ax = plot_importance(clf, height = 1, color = colours, grid = False, \\\n",
    "                     show_values = False, importance_type = 'cover', ax = ax);\n",
    "for axis in ['top','bottom','left','right']:\n",
    "            ax.spines[axis].set_linewidth(2)\n",
    "        \n",
    "ax.set_xlabel('importance score', size = 16);\n",
    "ax.set_ylabel('features', size = 16);\n",
    "ax.set_yticklabels(ax.get_yticklabels(), size = 12);\n",
    "ax.set_title('Ordering of features by importance to the model learnt', size = 20);"
   ]
  },
  {
   "cell_type": "code",
   "execution_count": 30,
   "metadata": {},
   "outputs": [
    {
     "data": {
      "image/svg+xml": [
       "<?xml version=\"1.0\" encoding=\"UTF-8\" standalone=\"no\"?>\r\n",
       "<!DOCTYPE svg PUBLIC \"-//W3C//DTD SVG 1.1//EN\"\r\n",
       " \"http://www.w3.org/Graphics/SVG/1.1/DTD/svg11.dtd\">\r\n",
       "<!-- Generated by graphviz version 2.38.0 (20140413.2041)\r\n",
       " -->\r\n",
       "<!-- Title: %3 Pages: 1 -->\r\n",
       "<svg width=\"560pt\" height=\"514pt\"\r\n",
       " viewBox=\"0.00 0.00 559.50 514.17\" xmlns=\"http://www.w3.org/2000/svg\" xmlns:xlink=\"http://www.w3.org/1999/xlink\">\r\n",
       "<g id=\"graph0\" class=\"graph\" transform=\"scale(1 1) rotate(0) translate(4 510.172)\">\r\n",
       "<title>%3</title>\r\n",
       "<polygon fill=\"white\" stroke=\"none\" points=\"-4,4 -4,-510.172 555.5,-510.172 555.5,4 -4,4\"/>\r\n",
       "<!-- 0 -->\r\n",
       "<g id=\"node1\" class=\"node\"><title>0</title>\r\n",
       "<ellipse fill=\"none\" stroke=\"black\" cx=\"214.5\" cy=\"-445.077\" rx=\"61.1893\" ry=\"61.1893\"/>\r\n",
       "<text text-anchor=\"middle\" x=\"214.5\" y=\"-441.377\" font-family=\"Times New Roman,serif\" font-size=\"14.00\">f6&lt;2839517.5</text>\r\n",
       "</g>\r\n",
       "<!-- 1 -->\r\n",
       "<g id=\"node2\" class=\"node\"><title>1</title>\r\n",
       "<polygon fill=\"none\" stroke=\"black\" points=\"221.5,-305.487 101.5,-305.487 101.5,-269.487 221.5,-269.487 221.5,-305.487\"/>\r\n",
       "<text text-anchor=\"middle\" x=\"161.5\" y=\"-283.787\" font-family=\"Times New Roman,serif\" font-size=\"14.00\">leaf=&#45;0.199923679</text>\r\n",
       "</g>\r\n",
       "<!-- 0&#45;&gt;1 -->\r\n",
       "<g id=\"edge1\" class=\"edge\"><title>0&#45;&gt;1</title>\r\n",
       "<path fill=\"none\" stroke=\"#0000ff\" d=\"M186.92,-390.147C183.438,-382.168 180.167,-373.95 177.5,-365.983 172.061,-349.734 168.124,-330.923 165.516,-315.903\"/>\r\n",
       "<polygon fill=\"#0000ff\" stroke=\"#0000ff\" points=\"168.92,-315.03 163.85,-305.727 162.012,-316.161 168.92,-315.03\"/>\r\n",
       "<text text-anchor=\"middle\" x=\"212\" y=\"-354.783\" font-family=\"Times New Roman,serif\" font-size=\"14.00\">yes, missing</text>\r\n",
       "</g>\r\n",
       "<!-- 2 -->\r\n",
       "<g id=\"node3\" class=\"node\"><title>2</title>\r\n",
       "<ellipse fill=\"none\" stroke=\"black\" cx=\"284.5\" cy=\"-287.487\" rx=\"45.4919\" ry=\"45.4919\"/>\r\n",
       "<text text-anchor=\"middle\" x=\"284.5\" y=\"-283.787\" font-family=\"Times New Roman,serif\" font-size=\"14.00\">f3&lt;20285</text>\r\n",
       "</g>\r\n",
       "<!-- 0&#45;&gt;2 -->\r\n",
       "<g id=\"edge2\" class=\"edge\"><title>0&#45;&gt;2</title>\r\n",
       "<path fill=\"none\" stroke=\"#ff0000\" d=\"M239.376,-388.784C246.735,-372.428 254.746,-354.621 261.949,-338.611\"/>\r\n",
       "<polygon fill=\"#ff0000\" stroke=\"#ff0000\" points=\"265.174,-339.973 266.085,-329.417 258.791,-337.101 265.174,-339.973\"/>\r\n",
       "<text text-anchor=\"middle\" x=\"264\" y=\"-354.783\" font-family=\"Times New Roman,serif\" font-size=\"14.00\">no</text>\r\n",
       "</g>\r\n",
       "<!-- 3 -->\r\n",
       "<g id=\"node4\" class=\"node\"><title>3</title>\r\n",
       "<ellipse fill=\"none\" stroke=\"black\" cx=\"206.5\" cy=\"-138.995\" rx=\"51.9908\" ry=\"51.9908\"/>\r\n",
       "<text text-anchor=\"middle\" x=\"206.5\" y=\"-135.295\" font-family=\"Times New Roman,serif\" font-size=\"14.00\">f3&lt;13598.5</text>\r\n",
       "</g>\r\n",
       "<!-- 2&#45;&gt;3 -->\r\n",
       "<g id=\"edge3\" class=\"edge\"><title>2&#45;&gt;3</title>\r\n",
       "<path fill=\"none\" stroke=\"#0000ff\" d=\"M257.219,-250.71C251.319,-242.191 245.39,-232.962 240.5,-223.991 235.974,-215.687 231.698,-206.651 227.806,-197.684\"/>\r\n",
       "<polygon fill=\"#0000ff\" stroke=\"#0000ff\" points=\"231.002,-196.255 223.893,-188.399 224.551,-198.974 231.002,-196.255\"/>\r\n",
       "<text text-anchor=\"middle\" x=\"275\" y=\"-212.791\" font-family=\"Times New Roman,serif\" font-size=\"14.00\">yes, missing</text>\r\n",
       "</g>\r\n",
       "<!-- 4 -->\r\n",
       "<g id=\"node5\" class=\"node\"><title>4</title>\r\n",
       "<ellipse fill=\"none\" stroke=\"black\" cx=\"349.5\" cy=\"-138.995\" rx=\"38.9931\" ry=\"38.9931\"/>\r\n",
       "<text text-anchor=\"middle\" x=\"349.5\" y=\"-135.295\" font-family=\"Times New Roman,serif\" font-size=\"14.00\">f5&lt;12.5</text>\r\n",
       "</g>\r\n",
       "<!-- 2&#45;&gt;4 -->\r\n",
       "<g id=\"edge4\" class=\"edge\"><title>2&#45;&gt;4</title>\r\n",
       "<path fill=\"none\" stroke=\"#ff0000\" d=\"M302.606,-245.681C311.064,-226.619 321.152,-203.884 329.8,-184.393\"/>\r\n",
       "<polygon fill=\"#ff0000\" stroke=\"#ff0000\" points=\"333.06,-185.676 333.917,-175.116 326.662,-182.837 333.06,-185.676\"/>\r\n",
       "<text text-anchor=\"middle\" x=\"327\" y=\"-212.791\" font-family=\"Times New Roman,serif\" font-size=\"14.00\">no</text>\r\n",
       "</g>\r\n",
       "<!-- 5 -->\r\n",
       "<g id=\"node6\" class=\"node\"><title>5</title>\r\n",
       "<polygon fill=\"none\" stroke=\"black\" points=\"127,-36 -7.10543e-015,-36 -7.10543e-015,-0 127,-0 127,-36\"/>\r\n",
       "<text text-anchor=\"middle\" x=\"63.5\" y=\"-14.3\" font-family=\"Times New Roman,serif\" font-size=\"14.00\">leaf=&#45;0.0150704486</text>\r\n",
       "</g>\r\n",
       "<!-- 3&#45;&gt;5 -->\r\n",
       "<g id=\"edge5\" class=\"edge\"><title>3&#45;&gt;5</title>\r\n",
       "<path fill=\"none\" stroke=\"#0000ff\" d=\"M166.667,-104.849C142.924,-85.0914 113.343,-60.4762 91.9518,-42.6758\"/>\r\n",
       "<polygon fill=\"#0000ff\" stroke=\"#0000ff\" points=\"94.1091,-39.9177 84.1836,-36.2116 89.6316,-45.2984 94.1091,-39.9177\"/>\r\n",
       "<text text-anchor=\"middle\" x=\"157\" y=\"-57.8\" font-family=\"Times New Roman,serif\" font-size=\"14.00\">yes, missing</text>\r\n",
       "</g>\r\n",
       "<!-- 6 -->\r\n",
       "<g id=\"node7\" class=\"node\"><title>6</title>\r\n",
       "<polygon fill=\"none\" stroke=\"black\" points=\"267.5,-36 145.5,-36 145.5,-0 267.5,-0 267.5,-36\"/>\r\n",
       "<text text-anchor=\"middle\" x=\"206.5\" y=\"-14.3\" font-family=\"Times New Roman,serif\" font-size=\"14.00\">leaf=0.0322752334</text>\r\n",
       "</g>\r\n",
       "<!-- 3&#45;&gt;6 -->\r\n",
       "<g id=\"edge6\" class=\"edge\"><title>3&#45;&gt;6</title>\r\n",
       "<path fill=\"none\" stroke=\"#ff0000\" d=\"M206.5,-86.84C206.5,-72.9503 206.5,-58.4418 206.5,-46.4237\"/>\r\n",
       "<polygon fill=\"#ff0000\" stroke=\"#ff0000\" points=\"210,-46.1758 206.5,-36.1759 203,-46.1759 210,-46.1758\"/>\r\n",
       "<text text-anchor=\"middle\" x=\"214\" y=\"-57.8\" font-family=\"Times New Roman,serif\" font-size=\"14.00\">no</text>\r\n",
       "</g>\r\n",
       "<!-- 7 -->\r\n",
       "<g id=\"node8\" class=\"node\"><title>7</title>\r\n",
       "<polygon fill=\"none\" stroke=\"black\" points=\"413,-36 286,-36 286,-0 413,-0 413,-36\"/>\r\n",
       "<text text-anchor=\"middle\" x=\"349.5\" y=\"-14.3\" font-family=\"Times New Roman,serif\" font-size=\"14.00\">leaf=&#45;0.0205109827</text>\r\n",
       "</g>\r\n",
       "<!-- 4&#45;&gt;7 -->\r\n",
       "<g id=\"edge7\" class=\"edge\"><title>4&#45;&gt;7</title>\r\n",
       "<path fill=\"none\" stroke=\"#0000ff\" d=\"M349.5,-99.6895C349.5,-82.3559 349.5,-62.2619 349.5,-46.4624\"/>\r\n",
       "<polygon fill=\"#0000ff\" stroke=\"#0000ff\" points=\"353,-46.297 349.5,-36.297 346,-46.297 353,-46.297\"/>\r\n",
       "<text text-anchor=\"middle\" x=\"384\" y=\"-57.8\" font-family=\"Times New Roman,serif\" font-size=\"14.00\">yes, missing</text>\r\n",
       "</g>\r\n",
       "<!-- 8 -->\r\n",
       "<g id=\"node9\" class=\"node\"><title>8</title>\r\n",
       "<polygon fill=\"none\" stroke=\"black\" points=\"551.5,-36 431.5,-36 431.5,-0 551.5,-0 551.5,-36\"/>\r\n",
       "<text text-anchor=\"middle\" x=\"491.5\" y=\"-14.3\" font-family=\"Times New Roman,serif\" font-size=\"14.00\">leaf=&#45;0.169044808</text>\r\n",
       "</g>\r\n",
       "<!-- 4&#45;&gt;8 -->\r\n",
       "<g id=\"edge8\" class=\"edge\"><title>4&#45;&gt;8</title>\r\n",
       "<path fill=\"none\" stroke=\"#ff0000\" d=\"M378.922,-113.339C403.591,-92.667 438.6,-63.33 463.005,-42.8786\"/>\r\n",
       "<polygon fill=\"#ff0000\" stroke=\"#ff0000\" points=\"465.428,-45.4145 470.845,-36.3089 460.932,-40.0492 465.428,-45.4145\"/>\r\n",
       "<text text-anchor=\"middle\" x=\"457\" y=\"-57.8\" font-family=\"Times New Roman,serif\" font-size=\"14.00\">no</text>\r\n",
       "</g>\r\n",
       "</g>\r\n",
       "</svg>\r\n"
      ],
      "text/plain": [
       "<graphviz.dot.Digraph at 0x1be95ed56d8>"
      ]
     },
     "execution_count": 30,
     "metadata": {},
     "output_type": "execute_result"
    }
   ],
   "source": [
    "to_graphviz(clf)"
   ]
  },
  {
   "cell_type": "code",
   "execution_count": null,
   "metadata": {},
   "outputs": [],
   "source": []
  }
 ],
 "metadata": {
  "anaconda-cloud": {},
  "kernelspec": {
   "display_name": "Python 3",
   "language": "python",
   "name": "python3"
  },
  "language_info": {
   "codemirror_mode": {
    "name": "ipython",
    "version": 3
   },
   "file_extension": ".py",
   "mimetype": "text/x-python",
   "name": "python",
   "nbconvert_exporter": "python",
   "pygments_lexer": "ipython3",
   "version": "3.6.6"
  }
 },
 "nbformat": 4,
 "nbformat_minor": 1
}
