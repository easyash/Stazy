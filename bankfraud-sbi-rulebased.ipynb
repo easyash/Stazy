{
 "cells": [
  {
   "cell_type": "markdown",
   "metadata": {
    "_cell_guid": "aae6646e-bcaa-4afb-85bc-2f67e314d5b0",
    "_uuid": "d821b548edc31ad27967b8419af17bfa4f0bae48"
   },
   "source": [
    "<a id='import'></a>\n",
    "#### 1. Import"
   ]
  },
  {
   "cell_type": "code",
   "execution_count": 70,
   "metadata": {
    "_cell_guid": "03afcaca-4105-4c95-9a38-9a922f592814",
    "_uuid": "f936a10915bc042e678e1148923e493f92b518c3"
   },
   "outputs": [],
   "source": [
    "import pandas as pd\n",
    "import numpy as np\n",
    "%matplotlib inline\n",
    "import matplotlib.pyplot as plt\n",
    "import matplotlib.lines as mlines\n",
    "from mpl_toolkits.mplot3d import Axes3D\n",
    "import seaborn as sns\n",
    "from sklearn.model_selection import train_test_split, learning_curve\n",
    "from sklearn.metrics import average_precision_score\n",
    "from sklearn.metrics import confusion_matrix,auc,roc_auc_score\n",
    "from sklearn.metrics import recall_score, precision_score, accuracy_score, f1_score\n",
    "\n",
    "from xgboost.sklearn import XGBClassifier\n",
    "from xgboost import plot_importance, to_graphviz\n",
    "from sklearn.naive_bayes import GaussianNB\n",
    "from sklearn.linear_model import LogisticRegression\n",
    "from sklearn.preprocessing import LabelEncoder,LabelBinarizer"
   ]
  },
  {
   "cell_type": "code",
   "execution_count": 71,
   "metadata": {},
   "outputs": [],
   "source": [
    "from sklearn.preprocessing import StandardScaler"
   ]
  },
  {
   "cell_type": "code",
   "execution_count": 72,
   "metadata": {},
   "outputs": [],
   "source": [
    "import os\n",
    "os.environ[\"PATH\"] += os.pathsep + 'C:/Program Files (x86)/Graphviz2.38/bin/'"
   ]
  },
  {
   "cell_type": "code",
   "execution_count": 73,
   "metadata": {
    "_cell_guid": "9bc1119f-d883-4cc6-b569-a707359abe01",
    "_uuid": "b7a3f0c8714f9e3d78a898a014f5ad81ecee1063"
   },
   "outputs": [],
   "source": [
    "import warnings\n",
    "warnings.filterwarnings(\"ignore\", category=DeprecationWarning)"
   ]
  },
  {
   "cell_type": "code",
   "execution_count": 74,
   "metadata": {
    "_cell_guid": "9dc91648-ab99-44c3-a1f1-bea967df390f",
    "_uuid": "6e1110dd564e4a38eb9d8e83c4575dcc3d26abe8"
   },
   "outputs": [
    {
     "name": "stderr",
     "output_type": "stream",
     "text": [
      "C:\\ProgramData\\Anaconda3\\lib\\site-packages\\ipykernel_launcher.py:6: SettingWithCopyWarning: \n",
      "A value is trying to be set on a copy of a slice from a DataFrame.\n",
      "Try using .loc[row_indexer,col_indexer] = value instead\n",
      "\n",
      "See the caveats in the documentation: http://pandas.pydata.org/pandas-docs/stable/indexing.html#indexing-view-versus-copy\n",
      "  \n"
     ]
    }
   ],
   "source": [
    "df = pd.read_csv('sampledata.csv')\n",
    "df.columns = df.columns.str.replace(' ', '')\n",
    "\n",
    "dfDeposit = df.loc[(df.TxnType == 'Deposit')]\n",
    "#convert column to datetimes\n",
    "dfDeposit['TxnDateTime'] = pd.to_datetime(dfDeposit.TxnDateTime)\n"
   ]
  },
  {
   "cell_type": "code",
   "execution_count": 75,
   "metadata": {},
   "outputs": [
    {
     "name": "stdout",
     "output_type": "stream",
     "text": [
      "     CSPCode  CSPlocation  TerminalID         TxnDateTime  TxnType  \\\n",
      "0   1A69C733          NaN  10810701.0 2018-11-28 17:57:56  Deposit   \n",
      "32  1A69C733          NaN  10810701.0 2018-11-29 09:54:54  Deposit   \n",
      "79  1A695944          NaN  13075201.0 2018-11-28 18:05:22  Deposit   \n",
      "80  1A695944          NaN  13075201.0 2018-11-28 18:05:41  Deposit   \n",
      "81  1A695944          NaN  13075201.0 2018-11-28 18:05:57  Deposit   \n",
      "\n",
      "    CustomerName  FromAccount    ToAccount  Amount  CustomerCharge  \\\n",
      "0            NaN  XXXXXX59469  XXXXXX66910   900.0             0.0   \n",
      "32           NaN  XXXXXX59469  XXXXXX28557   600.0             0.0   \n",
      "79           NaN  XXXXXX59469  XXXXXX23928  5000.0             0.0   \n",
      "80           NaN  XXXXXX59469  XXXXXX23928  5000.0             0.0   \n",
      "81           NaN  XXXXXX59469  XXXXXX23928  5000.0             0.0   \n",
      "\n",
      "      JournalNo TxnStatus          RefNumber        AuditStatus  \n",
      "0   110474040.0   Success  ,2407280517301674                NaN  \n",
      "32   15076460.0   Success  ,2464683775357644                NaN  \n",
      "79  111328768.0   Success  ,2407734619037113       Fraud Master  \n",
      "80  111370909.0   Success  ,2407754413415753  Fraud Transaction  \n",
      "81  111400904.0   Success  ,2407770432973115  Fraud Transaction  \n"
     ]
    }
   ],
   "source": [
    "print(dfDeposit.head())"
   ]
  },
  {
   "cell_type": "code",
   "execution_count": 77,
   "metadata": {},
   "outputs": [
    {
     "ename": "SyntaxError",
     "evalue": "EOL while scanning string literal (<ipython-input-77-da9c4d101e76>, line 1)",
     "output_type": "error",
     "traceback": [
      "\u001b[1;36m  File \u001b[1;32m\"<ipython-input-77-da9c4d101e76>\"\u001b[1;36m, line \u001b[1;32m1\u001b[0m\n\u001b[1;33m    df_bygroupFATA = dfDeposit.groupby(['FromAccount','ToAccount'])['TxnTimeDate;].diff()\u001b[0m\n\u001b[1;37m                                                                                         ^\u001b[0m\n\u001b[1;31mSyntaxError\u001b[0m\u001b[1;31m:\u001b[0m EOL while scanning string literal\n"
     ]
    }
   ],
   "source": [
    "df_bygroupFATA = dfDeposit.groupby(['FromAccount','ToAccount'])\n",
    "print(len(df_bygroupFATA))"
   ]
  },
  {
   "cell_type": "code",
   "execution_count": null,
   "metadata": {},
   "outputs": [],
   "source": []
  }
 ],
 "metadata": {
  "anaconda-cloud": {},
  "kernelspec": {
   "display_name": "Python 3",
   "language": "python",
   "name": "python3"
  },
  "language_info": {
   "codemirror_mode": {
    "name": "ipython",
    "version": 3
   },
   "file_extension": ".py",
   "mimetype": "text/x-python",
   "name": "python",
   "nbconvert_exporter": "python",
   "pygments_lexer": "ipython3",
   "version": "3.6.6"
  }
 },
 "nbformat": 4,
 "nbformat_minor": 1
}
